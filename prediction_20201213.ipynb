{
 "cells": [
  {
   "cell_type": "code",
   "execution_count": 1,
   "metadata": {},
   "outputs": [
    {
     "name": "stdout",
     "output_type": "stream",
     "text": [
      "Requirement already satisfied: category_encoders in /opt/conda/lib/python3.8/site-packages (2.2.2)\n",
      "Requirement already satisfied: pandas>=0.21.1 in /opt/conda/lib/python3.8/site-packages (from category_encoders) (1.1.4)\n",
      "Requirement already satisfied: patsy>=0.5.1 in /opt/conda/lib/python3.8/site-packages (from category_encoders) (0.5.1)\n",
      "Requirement already satisfied: statsmodels>=0.9.0 in /opt/conda/lib/python3.8/site-packages (from category_encoders) (0.12.1)\n",
      "Requirement already satisfied: scikit-learn>=0.20.0 in /opt/conda/lib/python3.8/site-packages (from category_encoders) (0.23.2)\n",
      "Requirement already satisfied: scipy>=1.0.0 in /opt/conda/lib/python3.8/site-packages (from category_encoders) (1.5.3)\n",
      "Requirement already satisfied: numpy>=1.14.0 in /opt/conda/lib/python3.8/site-packages (from category_encoders) (1.19.4)\n",
      "Requirement already satisfied: python-dateutil>=2.7.3 in /opt/conda/lib/python3.8/site-packages (from pandas>=0.21.1->category_encoders) (2.8.1)\n",
      "Requirement already satisfied: pytz>=2017.2 in /opt/conda/lib/python3.8/site-packages (from pandas>=0.21.1->category_encoders) (2020.4)\n",
      "Requirement already satisfied: six in /opt/conda/lib/python3.8/site-packages (from patsy>=0.5.1->category_encoders) (1.15.0)\n",
      "Requirement already satisfied: joblib>=0.11 in /opt/conda/lib/python3.8/site-packages (from scikit-learn>=0.20.0->category_encoders) (0.17.0)\n",
      "Requirement already satisfied: threadpoolctl>=2.0.0 in /opt/conda/lib/python3.8/site-packages (from scikit-learn>=0.20.0->category_encoders) (2.1.0)\n",
      "Requirement already satisfied: sklearn in /opt/conda/lib/python3.8/site-packages (0.0)\n",
      "Requirement already satisfied: scikit-learn in /opt/conda/lib/python3.8/site-packages (from sklearn) (0.23.2)\n",
      "Requirement already satisfied: numpy>=1.13.3 in /opt/conda/lib/python3.8/site-packages (from scikit-learn->sklearn) (1.19.4)\n",
      "Requirement already satisfied: threadpoolctl>=2.0.0 in /opt/conda/lib/python3.8/site-packages (from scikit-learn->sklearn) (2.1.0)\n",
      "Requirement already satisfied: joblib>=0.11 in /opt/conda/lib/python3.8/site-packages (from scikit-learn->sklearn) (0.17.0)\n",
      "Requirement already satisfied: scipy>=0.19.1 in /opt/conda/lib/python3.8/site-packages (from scikit-learn->sklearn) (1.5.3)\n"
     ]
    }
   ],
   "source": [
    "!pip install category_encoders\n",
    "!pip install sklearn\n",
    "from pathlib import Path\n",
    "\n",
    "import numpy as np\n",
    "import pandas as pd\n",
    "import networkx as nx\n",
    "import matplotlib.pyplot as plt\n",
    "\n",
    "import category_encoders as ce\n",
    "\n",
    "import sklearn\n",
    "\n",
    "from sklearn.tree import DecisionTreeClassifier\n",
    "from sklearn.ensemble import RandomForestClassifier\n",
    "from sklearn.model_selection import train_test_split\n",
    "from sklearn.model_selection import GridSearchCV\n"
   ]
  },
  {
   "cell_type": "code",
   "execution_count": 2,
   "metadata": {},
   "outputs": [],
   "source": [
    "DATA_DIR = Path(r\"./orig_data\")\n",
    "MOD_DATA_DIR = Path(r\"./mod_data\")\n",
    "df_train = pd.read_csv(MOD_DATA_DIR / \"train.csv\")\n",
    "df_test = pd.read_csv(MOD_DATA_DIR / \"test.csv\")\n",
    "#df_test = pd.read_csv(MOD_DATA_DIR / \"test_eval.csv\")\n",
    "df_network = pd.read_csv(DATA_DIR / \"network.csv\")"
   ]
  },
  {
   "cell_type": "code",
   "execution_count": 3,
   "metadata": {},
   "outputs": [
    {
     "data": {
      "text/plain": [
       "(1905635, 9)"
      ]
     },
     "execution_count": 3,
     "metadata": {},
     "output_type": "execute_result"
    }
   ],
   "source": [
    "df_train.shape"
   ]
  },
  {
   "cell_type": "code",
   "execution_count": 4,
   "metadata": {},
   "outputs": [
    {
     "data": {
      "text/plain": [
       "(1259229, 10)"
      ]
     },
     "execution_count": 4,
     "metadata": {},
     "output_type": "execute_result"
    }
   ],
   "source": [
    "df_test.shape"
   ]
  },
  {
   "cell_type": "code",
   "execution_count": 5,
   "metadata": {},
   "outputs": [
    {
     "data": {
      "text/plain": [
       "(113, 3)"
      ]
     },
     "execution_count": 5,
     "metadata": {},
     "output_type": "execute_result"
    }
   ],
   "source": [
    "df_network.shape"
   ]
  },
  {
   "cell_type": "code",
   "execution_count": 6,
   "metadata": {},
   "outputs": [
    {
     "data": {
      "text/plain": [
       "Index(['id', 'date', 'lineName', 'directionCode', 'trainNo', 'stopStation',\n",
       "       'planArrival', 'delayTime', 'prev_dalayTime'],\n",
       "      dtype='object')"
      ]
     },
     "execution_count": 6,
     "metadata": {},
     "output_type": "execute_result"
    }
   ],
   "source": [
    "df_train.columns"
   ]
  },
  {
   "cell_type": "code",
   "execution_count": 7,
   "metadata": {},
   "outputs": [
    {
     "data": {
      "text/html": [
       "<div>\n",
       "<style scoped>\n",
       "    .dataframe tbody tr th:only-of-type {\n",
       "        vertical-align: middle;\n",
       "    }\n",
       "\n",
       "    .dataframe tbody tr th {\n",
       "        vertical-align: top;\n",
       "    }\n",
       "\n",
       "    .dataframe thead th {\n",
       "        text-align: right;\n",
       "    }\n",
       "</style>\n",
       "<table border=\"1\" class=\"dataframe\">\n",
       "  <thead>\n",
       "    <tr style=\"text-align: right;\">\n",
       "      <th></th>\n",
       "      <th>id</th>\n",
       "      <th>date</th>\n",
       "      <th>lineName</th>\n",
       "      <th>directionCode</th>\n",
       "      <th>trainNo</th>\n",
       "      <th>stopStation</th>\n",
       "      <th>planArrival</th>\n",
       "      <th>delayTime</th>\n",
       "      <th>prev_dalayTime</th>\n",
       "    </tr>\n",
       "  </thead>\n",
       "  <tbody>\n",
       "    <tr>\n",
       "      <th>0</th>\n",
       "      <td>0</td>\n",
       "      <td>20191204</td>\n",
       "      <td>A</td>\n",
       "      <td>1</td>\n",
       "      <td>AFGKvJ</td>\n",
       "      <td>Rlfq</td>\n",
       "      <td>06:11</td>\n",
       "      <td>0.0</td>\n",
       "      <td>0.0</td>\n",
       "    </tr>\n",
       "    <tr>\n",
       "      <th>1</th>\n",
       "      <td>1</td>\n",
       "      <td>20191204</td>\n",
       "      <td>A</td>\n",
       "      <td>1</td>\n",
       "      <td>AFGKvJ</td>\n",
       "      <td>coZB</td>\n",
       "      <td>06:13</td>\n",
       "      <td>0.0</td>\n",
       "      <td>0.0</td>\n",
       "    </tr>\n",
       "    <tr>\n",
       "      <th>2</th>\n",
       "      <td>2</td>\n",
       "      <td>20191204</td>\n",
       "      <td>A</td>\n",
       "      <td>1</td>\n",
       "      <td>AFGKvJ</td>\n",
       "      <td>LMww</td>\n",
       "      <td>06:16</td>\n",
       "      <td>0.0</td>\n",
       "      <td>0.0</td>\n",
       "    </tr>\n",
       "    <tr>\n",
       "      <th>3</th>\n",
       "      <td>3</td>\n",
       "      <td>20191204</td>\n",
       "      <td>A</td>\n",
       "      <td>1</td>\n",
       "      <td>AFGKvJ</td>\n",
       "      <td>VNyR</td>\n",
       "      <td>06:18</td>\n",
       "      <td>0.0</td>\n",
       "      <td>0.0</td>\n",
       "    </tr>\n",
       "    <tr>\n",
       "      <th>4</th>\n",
       "      <td>4</td>\n",
       "      <td>20191204</td>\n",
       "      <td>A</td>\n",
       "      <td>1</td>\n",
       "      <td>AFGKvJ</td>\n",
       "      <td>jhlV</td>\n",
       "      <td>06:20</td>\n",
       "      <td>0.0</td>\n",
       "      <td>0.0</td>\n",
       "    </tr>\n",
       "    <tr>\n",
       "      <th>5</th>\n",
       "      <td>5</td>\n",
       "      <td>20191204</td>\n",
       "      <td>A</td>\n",
       "      <td>1</td>\n",
       "      <td>AFGKvJ</td>\n",
       "      <td>efzW</td>\n",
       "      <td>06:22</td>\n",
       "      <td>0.0</td>\n",
       "      <td>0.0</td>\n",
       "    </tr>\n",
       "    <tr>\n",
       "      <th>6</th>\n",
       "      <td>6</td>\n",
       "      <td>20191204</td>\n",
       "      <td>A</td>\n",
       "      <td>1</td>\n",
       "      <td>AFGKvJ</td>\n",
       "      <td>PcxI</td>\n",
       "      <td>06:25</td>\n",
       "      <td>0.0</td>\n",
       "      <td>0.0</td>\n",
       "    </tr>\n",
       "    <tr>\n",
       "      <th>7</th>\n",
       "      <td>7</td>\n",
       "      <td>20191204</td>\n",
       "      <td>A</td>\n",
       "      <td>1</td>\n",
       "      <td>AFGKvJ</td>\n",
       "      <td>ejfb</td>\n",
       "      <td>06:27</td>\n",
       "      <td>0.0</td>\n",
       "      <td>0.0</td>\n",
       "    </tr>\n",
       "    <tr>\n",
       "      <th>8</th>\n",
       "      <td>8</td>\n",
       "      <td>20191204</td>\n",
       "      <td>A</td>\n",
       "      <td>1</td>\n",
       "      <td>AFGKvJ</td>\n",
       "      <td>RDLf</td>\n",
       "      <td>06:28</td>\n",
       "      <td>0.0</td>\n",
       "      <td>0.0</td>\n",
       "    </tr>\n",
       "    <tr>\n",
       "      <th>9</th>\n",
       "      <td>9</td>\n",
       "      <td>20191204</td>\n",
       "      <td>A</td>\n",
       "      <td>1</td>\n",
       "      <td>AFGKvJ</td>\n",
       "      <td>cRgf</td>\n",
       "      <td>06:31</td>\n",
       "      <td>0.0</td>\n",
       "      <td>0.0</td>\n",
       "    </tr>\n",
       "  </tbody>\n",
       "</table>\n",
       "</div>"
      ],
      "text/plain": [
       "   id      date lineName  directionCode trainNo stopStation planArrival  \\\n",
       "0   0  20191204        A              1  AFGKvJ        Rlfq       06:11   \n",
       "1   1  20191204        A              1  AFGKvJ        coZB       06:13   \n",
       "2   2  20191204        A              1  AFGKvJ        LMww       06:16   \n",
       "3   3  20191204        A              1  AFGKvJ        VNyR       06:18   \n",
       "4   4  20191204        A              1  AFGKvJ        jhlV       06:20   \n",
       "5   5  20191204        A              1  AFGKvJ        efzW       06:22   \n",
       "6   6  20191204        A              1  AFGKvJ        PcxI       06:25   \n",
       "7   7  20191204        A              1  AFGKvJ        ejfb       06:27   \n",
       "8   8  20191204        A              1  AFGKvJ        RDLf       06:28   \n",
       "9   9  20191204        A              1  AFGKvJ        cRgf       06:31   \n",
       "\n",
       "   delayTime  prev_dalayTime  \n",
       "0        0.0             0.0  \n",
       "1        0.0             0.0  \n",
       "2        0.0             0.0  \n",
       "3        0.0             0.0  \n",
       "4        0.0             0.0  \n",
       "5        0.0             0.0  \n",
       "6        0.0             0.0  \n",
       "7        0.0             0.0  \n",
       "8        0.0             0.0  \n",
       "9        0.0             0.0  "
      ]
     },
     "execution_count": 7,
     "metadata": {},
     "output_type": "execute_result"
    }
   ],
   "source": [
    "df_train.head(10)"
   ]
  },
  {
   "cell_type": "code",
   "execution_count": 8,
   "metadata": {},
   "outputs": [
    {
     "name": "stderr",
     "output_type": "stream",
     "text": [
      "/opt/conda/lib/python3.8/site-packages/category_encoders/utils.py:21: FutureWarning: is_categorical is deprecated and will be removed in a future version.  Use is_categorical_dtype instead\n",
      "  elif pd.api.types.is_categorical(cols):\n"
     ]
    }
   ],
   "source": [
    "# Eoncodeしたい列をリストで指定。もちろん複数指定可能。\n",
    "#list_cols = ['date','lineName','trainNo','stopStation','delay_case']\n",
    "list_cols = ['date','lineName','trainNo','stopStation']\n",
    "\n",
    "ce_oe = ce.OrdinalEncoder(cols=list_cols,handle_unknown='impute')\n",
    "df_train = ce_oe.fit_transform(df_train)\n",
    "df_test = ce_oe.fit_transform(df_test)\n"
   ]
  },
  {
   "cell_type": "code",
   "execution_count": 9,
   "metadata": {},
   "outputs": [
    {
     "data": {
      "text/html": [
       "<div>\n",
       "<style scoped>\n",
       "    .dataframe tbody tr th:only-of-type {\n",
       "        vertical-align: middle;\n",
       "    }\n",
       "\n",
       "    .dataframe tbody tr th {\n",
       "        vertical-align: top;\n",
       "    }\n",
       "\n",
       "    .dataframe thead th {\n",
       "        text-align: right;\n",
       "    }\n",
       "</style>\n",
       "<table border=\"1\" class=\"dataframe\">\n",
       "  <thead>\n",
       "    <tr style=\"text-align: right;\">\n",
       "      <th></th>\n",
       "      <th>id</th>\n",
       "      <th>date</th>\n",
       "      <th>lineName</th>\n",
       "      <th>directionCode</th>\n",
       "      <th>trainNo</th>\n",
       "      <th>stopStation</th>\n",
       "      <th>planArrival</th>\n",
       "      <th>delayTime</th>\n",
       "      <th>prev_dalayTime</th>\n",
       "    </tr>\n",
       "  </thead>\n",
       "  <tbody>\n",
       "    <tr>\n",
       "      <th>0</th>\n",
       "      <td>0</td>\n",
       "      <td>1</td>\n",
       "      <td>1</td>\n",
       "      <td>1</td>\n",
       "      <td>1</td>\n",
       "      <td>1</td>\n",
       "      <td>06:11</td>\n",
       "      <td>0.0</td>\n",
       "      <td>0.0</td>\n",
       "    </tr>\n",
       "    <tr>\n",
       "      <th>1</th>\n",
       "      <td>1</td>\n",
       "      <td>1</td>\n",
       "      <td>1</td>\n",
       "      <td>1</td>\n",
       "      <td>1</td>\n",
       "      <td>2</td>\n",
       "      <td>06:13</td>\n",
       "      <td>0.0</td>\n",
       "      <td>0.0</td>\n",
       "    </tr>\n",
       "    <tr>\n",
       "      <th>2</th>\n",
       "      <td>2</td>\n",
       "      <td>1</td>\n",
       "      <td>1</td>\n",
       "      <td>1</td>\n",
       "      <td>1</td>\n",
       "      <td>3</td>\n",
       "      <td>06:16</td>\n",
       "      <td>0.0</td>\n",
       "      <td>0.0</td>\n",
       "    </tr>\n",
       "    <tr>\n",
       "      <th>3</th>\n",
       "      <td>3</td>\n",
       "      <td>1</td>\n",
       "      <td>1</td>\n",
       "      <td>1</td>\n",
       "      <td>1</td>\n",
       "      <td>4</td>\n",
       "      <td>06:18</td>\n",
       "      <td>0.0</td>\n",
       "      <td>0.0</td>\n",
       "    </tr>\n",
       "    <tr>\n",
       "      <th>4</th>\n",
       "      <td>4</td>\n",
       "      <td>1</td>\n",
       "      <td>1</td>\n",
       "      <td>1</td>\n",
       "      <td>1</td>\n",
       "      <td>5</td>\n",
       "      <td>06:20</td>\n",
       "      <td>0.0</td>\n",
       "      <td>0.0</td>\n",
       "    </tr>\n",
       "    <tr>\n",
       "      <th>5</th>\n",
       "      <td>5</td>\n",
       "      <td>1</td>\n",
       "      <td>1</td>\n",
       "      <td>1</td>\n",
       "      <td>1</td>\n",
       "      <td>6</td>\n",
       "      <td>06:22</td>\n",
       "      <td>0.0</td>\n",
       "      <td>0.0</td>\n",
       "    </tr>\n",
       "    <tr>\n",
       "      <th>6</th>\n",
       "      <td>6</td>\n",
       "      <td>1</td>\n",
       "      <td>1</td>\n",
       "      <td>1</td>\n",
       "      <td>1</td>\n",
       "      <td>7</td>\n",
       "      <td>06:25</td>\n",
       "      <td>0.0</td>\n",
       "      <td>0.0</td>\n",
       "    </tr>\n",
       "    <tr>\n",
       "      <th>7</th>\n",
       "      <td>7</td>\n",
       "      <td>1</td>\n",
       "      <td>1</td>\n",
       "      <td>1</td>\n",
       "      <td>1</td>\n",
       "      <td>8</td>\n",
       "      <td>06:27</td>\n",
       "      <td>0.0</td>\n",
       "      <td>0.0</td>\n",
       "    </tr>\n",
       "    <tr>\n",
       "      <th>8</th>\n",
       "      <td>8</td>\n",
       "      <td>1</td>\n",
       "      <td>1</td>\n",
       "      <td>1</td>\n",
       "      <td>1</td>\n",
       "      <td>9</td>\n",
       "      <td>06:28</td>\n",
       "      <td>0.0</td>\n",
       "      <td>0.0</td>\n",
       "    </tr>\n",
       "    <tr>\n",
       "      <th>9</th>\n",
       "      <td>9</td>\n",
       "      <td>1</td>\n",
       "      <td>1</td>\n",
       "      <td>1</td>\n",
       "      <td>1</td>\n",
       "      <td>10</td>\n",
       "      <td>06:31</td>\n",
       "      <td>0.0</td>\n",
       "      <td>0.0</td>\n",
       "    </tr>\n",
       "  </tbody>\n",
       "</table>\n",
       "</div>"
      ],
      "text/plain": [
       "   id  date  lineName  directionCode  trainNo  stopStation planArrival  \\\n",
       "0   0     1         1              1        1            1       06:11   \n",
       "1   1     1         1              1        1            2       06:13   \n",
       "2   2     1         1              1        1            3       06:16   \n",
       "3   3     1         1              1        1            4       06:18   \n",
       "4   4     1         1              1        1            5       06:20   \n",
       "5   5     1         1              1        1            6       06:22   \n",
       "6   6     1         1              1        1            7       06:25   \n",
       "7   7     1         1              1        1            8       06:27   \n",
       "8   8     1         1              1        1            9       06:28   \n",
       "9   9     1         1              1        1           10       06:31   \n",
       "\n",
       "   delayTime  prev_dalayTime  \n",
       "0        0.0             0.0  \n",
       "1        0.0             0.0  \n",
       "2        0.0             0.0  \n",
       "3        0.0             0.0  \n",
       "4        0.0             0.0  \n",
       "5        0.0             0.0  \n",
       "6        0.0             0.0  \n",
       "7        0.0             0.0  \n",
       "8        0.0             0.0  \n",
       "9        0.0             0.0  "
      ]
     },
     "execution_count": 9,
     "metadata": {},
     "output_type": "execute_result"
    }
   ],
   "source": [
    "df_train.head(10)"
   ]
  },
  {
   "cell_type": "code",
   "execution_count": 10,
   "metadata": {},
   "outputs": [],
   "source": [
    "#drop_columns = [\"date\", \"planArrival\"]\n",
    "drop_columns = [\"planArrival\"]\n",
    "\n",
    "df_train = df_train.drop(drop_columns, axis = 1)\n",
    "df_train = df_train.drop(\"id\", axis = 1)\n",
    "df_test = df_test.drop(drop_columns, axis = 1)\n",
    "\n",
    "#df_train['date'] = pd.to_datetime(df_train['date'])\n",
    "#df_test['date'] = pd.to_datetime(df_test['date'])\n"
   ]
  },
  {
   "cell_type": "code",
   "execution_count": 11,
   "metadata": {},
   "outputs": [
    {
     "data": {
      "text/html": [
       "<div>\n",
       "<style scoped>\n",
       "    .dataframe tbody tr th:only-of-type {\n",
       "        vertical-align: middle;\n",
       "    }\n",
       "\n",
       "    .dataframe tbody tr th {\n",
       "        vertical-align: top;\n",
       "    }\n",
       "\n",
       "    .dataframe thead th {\n",
       "        text-align: right;\n",
       "    }\n",
       "</style>\n",
       "<table border=\"1\" class=\"dataframe\">\n",
       "  <thead>\n",
       "    <tr style=\"text-align: right;\">\n",
       "      <th></th>\n",
       "      <th>date</th>\n",
       "      <th>lineName</th>\n",
       "      <th>directionCode</th>\n",
       "      <th>trainNo</th>\n",
       "      <th>stopStation</th>\n",
       "      <th>delayTime</th>\n",
       "      <th>prev_dalayTime</th>\n",
       "    </tr>\n",
       "  </thead>\n",
       "  <tbody>\n",
       "    <tr>\n",
       "      <th>0</th>\n",
       "      <td>1</td>\n",
       "      <td>1</td>\n",
       "      <td>1</td>\n",
       "      <td>1</td>\n",
       "      <td>1</td>\n",
       "      <td>0.0</td>\n",
       "      <td>0.0</td>\n",
       "    </tr>\n",
       "    <tr>\n",
       "      <th>1</th>\n",
       "      <td>1</td>\n",
       "      <td>1</td>\n",
       "      <td>1</td>\n",
       "      <td>1</td>\n",
       "      <td>2</td>\n",
       "      <td>0.0</td>\n",
       "      <td>0.0</td>\n",
       "    </tr>\n",
       "    <tr>\n",
       "      <th>2</th>\n",
       "      <td>1</td>\n",
       "      <td>1</td>\n",
       "      <td>1</td>\n",
       "      <td>1</td>\n",
       "      <td>3</td>\n",
       "      <td>0.0</td>\n",
       "      <td>0.0</td>\n",
       "    </tr>\n",
       "    <tr>\n",
       "      <th>3</th>\n",
       "      <td>1</td>\n",
       "      <td>1</td>\n",
       "      <td>1</td>\n",
       "      <td>1</td>\n",
       "      <td>4</td>\n",
       "      <td>0.0</td>\n",
       "      <td>0.0</td>\n",
       "    </tr>\n",
       "    <tr>\n",
       "      <th>4</th>\n",
       "      <td>1</td>\n",
       "      <td>1</td>\n",
       "      <td>1</td>\n",
       "      <td>1</td>\n",
       "      <td>5</td>\n",
       "      <td>0.0</td>\n",
       "      <td>0.0</td>\n",
       "    </tr>\n",
       "    <tr>\n",
       "      <th>5</th>\n",
       "      <td>1</td>\n",
       "      <td>1</td>\n",
       "      <td>1</td>\n",
       "      <td>1</td>\n",
       "      <td>6</td>\n",
       "      <td>0.0</td>\n",
       "      <td>0.0</td>\n",
       "    </tr>\n",
       "    <tr>\n",
       "      <th>6</th>\n",
       "      <td>1</td>\n",
       "      <td>1</td>\n",
       "      <td>1</td>\n",
       "      <td>1</td>\n",
       "      <td>7</td>\n",
       "      <td>0.0</td>\n",
       "      <td>0.0</td>\n",
       "    </tr>\n",
       "    <tr>\n",
       "      <th>7</th>\n",
       "      <td>1</td>\n",
       "      <td>1</td>\n",
       "      <td>1</td>\n",
       "      <td>1</td>\n",
       "      <td>8</td>\n",
       "      <td>0.0</td>\n",
       "      <td>0.0</td>\n",
       "    </tr>\n",
       "    <tr>\n",
       "      <th>8</th>\n",
       "      <td>1</td>\n",
       "      <td>1</td>\n",
       "      <td>1</td>\n",
       "      <td>1</td>\n",
       "      <td>9</td>\n",
       "      <td>0.0</td>\n",
       "      <td>0.0</td>\n",
       "    </tr>\n",
       "    <tr>\n",
       "      <th>9</th>\n",
       "      <td>1</td>\n",
       "      <td>1</td>\n",
       "      <td>1</td>\n",
       "      <td>1</td>\n",
       "      <td>10</td>\n",
       "      <td>0.0</td>\n",
       "      <td>0.0</td>\n",
       "    </tr>\n",
       "  </tbody>\n",
       "</table>\n",
       "</div>"
      ],
      "text/plain": [
       "   date  lineName  directionCode  trainNo  stopStation  delayTime  \\\n",
       "0     1         1              1        1            1        0.0   \n",
       "1     1         1              1        1            2        0.0   \n",
       "2     1         1              1        1            3        0.0   \n",
       "3     1         1              1        1            4        0.0   \n",
       "4     1         1              1        1            5        0.0   \n",
       "5     1         1              1        1            6        0.0   \n",
       "6     1         1              1        1            7        0.0   \n",
       "7     1         1              1        1            8        0.0   \n",
       "8     1         1              1        1            9        0.0   \n",
       "9     1         1              1        1           10        0.0   \n",
       "\n",
       "   prev_dalayTime  \n",
       "0             0.0  \n",
       "1             0.0  \n",
       "2             0.0  \n",
       "3             0.0  \n",
       "4             0.0  \n",
       "5             0.0  \n",
       "6             0.0  \n",
       "7             0.0  \n",
       "8             0.0  \n",
       "9             0.0  "
      ]
     },
     "execution_count": 11,
     "metadata": {},
     "output_type": "execute_result"
    }
   ],
   "source": [
    "df_train.head(10)"
   ]
  },
  {
   "cell_type": "code",
   "execution_count": 12,
   "metadata": {},
   "outputs": [],
   "source": [
    "X = df_train.drop('delayTime', axis=1)\n",
    "y = df_train['delayTime']\n",
    "\n",
    "X_train,X_test,y_train,y_test = train_test_split(X,y,train_size=0.8,shuffle=True)\n"
   ]
  },
  {
   "cell_type": "code",
   "execution_count": 13,
   "metadata": {},
   "outputs": [
    {
     "data": {
      "text/plain": [
       "RandomForestClassifier(n_estimators=12, random_state=0)"
      ]
     },
     "execution_count": 13,
     "metadata": {},
     "output_type": "execute_result"
    }
   ],
   "source": [
    "#ランダムフォレストによる学習\n",
    "model=RandomForestClassifier(random_state=0,n_estimators=8)\n",
    "\n",
    "model.fit(X_train,y_train)\n"
   ]
  },
  {
   "cell_type": "code",
   "execution_count": 14,
   "metadata": {
    "scrolled": true
   },
   "outputs": [
    {
     "name": "stdout",
     "output_type": "stream",
     "text": [
      "train acc: 0.992\n",
      "test acc: 0.880\n"
     ]
    }
   ],
   "source": [
    "#正答率を出力\n",
    "print('train acc: %.3f' % model.score(X_train, y_train))\n",
    "print('test acc: %.3f' % model.score(X_test, y_test))"
   ]
  },
  {
   "cell_type": "code",
   "execution_count": 15,
   "metadata": {
    "scrolled": true
   },
   "outputs": [
    {
     "data": {
      "text/plain": [
       "1833713    0.0\n",
       "1823401    0.0\n",
       "68132      0.0\n",
       "541383     3.0\n",
       "1249546    1.0\n",
       "388231     6.0\n",
       "402208     0.0\n",
       "727473     7.0\n",
       "1872703    0.0\n",
       "80614      0.0\n",
       "Name: delayTime, dtype: float64"
      ]
     },
     "execution_count": 15,
     "metadata": {},
     "output_type": "execute_result"
    }
   ],
   "source": [
    "y_test.head(10)"
   ]
  },
  {
   "cell_type": "code",
   "execution_count": 16,
   "metadata": {},
   "outputs": [
    {
     "data": {
      "text/html": [
       "<div>\n",
       "<style scoped>\n",
       "    .dataframe tbody tr th:only-of-type {\n",
       "        vertical-align: middle;\n",
       "    }\n",
       "\n",
       "    .dataframe tbody tr th {\n",
       "        vertical-align: top;\n",
       "    }\n",
       "\n",
       "    .dataframe thead th {\n",
       "        text-align: right;\n",
       "    }\n",
       "</style>\n",
       "<table border=\"1\" class=\"dataframe\">\n",
       "  <thead>\n",
       "    <tr style=\"text-align: right;\">\n",
       "      <th></th>\n",
       "      <th>date</th>\n",
       "      <th>lineName</th>\n",
       "      <th>directionCode</th>\n",
       "      <th>trainNo</th>\n",
       "      <th>stopStation</th>\n",
       "      <th>prev_dalayTime</th>\n",
       "    </tr>\n",
       "  </thead>\n",
       "  <tbody>\n",
       "    <tr>\n",
       "      <th>50</th>\n",
       "      <td>84</td>\n",
       "      <td>1</td>\n",
       "      <td>1</td>\n",
       "      <td>16.0</td>\n",
       "      <td>8</td>\n",
       "      <td>3.0</td>\n",
       "    </tr>\n",
       "    <tr>\n",
       "      <th>51</th>\n",
       "      <td>84</td>\n",
       "      <td>1</td>\n",
       "      <td>1</td>\n",
       "      <td>16.0</td>\n",
       "      <td>9</td>\n",
       "      <td>0.0</td>\n",
       "    </tr>\n",
       "    <tr>\n",
       "      <th>52</th>\n",
       "      <td>84</td>\n",
       "      <td>1</td>\n",
       "      <td>1</td>\n",
       "      <td>16.0</td>\n",
       "      <td>10</td>\n",
       "      <td>0.0</td>\n",
       "    </tr>\n",
       "    <tr>\n",
       "      <th>53</th>\n",
       "      <td>84</td>\n",
       "      <td>1</td>\n",
       "      <td>1</td>\n",
       "      <td>16.0</td>\n",
       "      <td>11</td>\n",
       "      <td>0.0</td>\n",
       "    </tr>\n",
       "    <tr>\n",
       "      <th>54</th>\n",
       "      <td>84</td>\n",
       "      <td>1</td>\n",
       "      <td>1</td>\n",
       "      <td>16.0</td>\n",
       "      <td>12</td>\n",
       "      <td>0.0</td>\n",
       "    </tr>\n",
       "    <tr>\n",
       "      <th>55</th>\n",
       "      <td>84</td>\n",
       "      <td>1</td>\n",
       "      <td>1</td>\n",
       "      <td>16.0</td>\n",
       "      <td>13</td>\n",
       "      <td>0.0</td>\n",
       "    </tr>\n",
       "    <tr>\n",
       "      <th>56</th>\n",
       "      <td>84</td>\n",
       "      <td>1</td>\n",
       "      <td>1</td>\n",
       "      <td>16.0</td>\n",
       "      <td>14</td>\n",
       "      <td>0.0</td>\n",
       "    </tr>\n",
       "    <tr>\n",
       "      <th>57</th>\n",
       "      <td>84</td>\n",
       "      <td>1</td>\n",
       "      <td>1</td>\n",
       "      <td>16.0</td>\n",
       "      <td>15</td>\n",
       "      <td>0.0</td>\n",
       "    </tr>\n",
       "    <tr>\n",
       "      <th>58</th>\n",
       "      <td>84</td>\n",
       "      <td>1</td>\n",
       "      <td>1</td>\n",
       "      <td>16.0</td>\n",
       "      <td>16</td>\n",
       "      <td>0.0</td>\n",
       "    </tr>\n",
       "    <tr>\n",
       "      <th>59</th>\n",
       "      <td>84</td>\n",
       "      <td>1</td>\n",
       "      <td>1</td>\n",
       "      <td>16.0</td>\n",
       "      <td>17</td>\n",
       "      <td>0.0</td>\n",
       "    </tr>\n",
       "  </tbody>\n",
       "</table>\n",
       "</div>"
      ],
      "text/plain": [
       "    date  lineName  directionCode  trainNo  stopStation  prev_dalayTime\n",
       "50    84         1              1     16.0            8             3.0\n",
       "51    84         1              1     16.0            9             0.0\n",
       "52    84         1              1     16.0           10             0.0\n",
       "53    84         1              1     16.0           11             0.0\n",
       "54    84         1              1     16.0           12             0.0\n",
       "55    84         1              1     16.0           13             0.0\n",
       "56    84         1              1     16.0           14             0.0\n",
       "57    84         1              1     16.0           15             0.0\n",
       "58    84         1              1     16.0           16             0.0\n",
       "59    84         1              1     16.0           17             0.0"
      ]
     },
     "execution_count": 16,
     "metadata": {},
     "output_type": "execute_result"
    }
   ],
   "source": [
    "#target が 0のものを削除\n",
    "drop_index = df_test.index[df_test['target'] == 0]\n",
    "#条件にマッチしたIndexを削除\n",
    "df_test = df_test.drop(drop_index)\n",
    "\n",
    "df_test = df_test.drop('target', axis=1)\n",
    "df_test = df_test.drop('delayTime', axis=1)\n",
    "X_eval = df_test.drop(\"id\", axis = 1)\n",
    "\n",
    "X_eval.head(10)\n"
   ]
  },
  {
   "cell_type": "code",
   "execution_count": 17,
   "metadata": {},
   "outputs": [],
   "source": [
    "df_test.to_csv('test_eval_sample.csv')"
   ]
  },
  {
   "cell_type": "code",
   "execution_count": 18,
   "metadata": {},
   "outputs": [],
   "source": [
    "result = model.predict(X_eval)"
   ]
  },
  {
   "cell_type": "code",
   "execution_count": 19,
   "metadata": {},
   "outputs": [],
   "source": [
    "with open('submit_random_forest.csv', 'w') as f:\n",
    "    for i in range(len(result)):\n",
    "        write_string=str(int(df_test.iloc[i]['id'])) + ',' + str(result[i])\n",
    "        f.write(write_string+'\\n')"
   ]
  },
  {
   "cell_type": "code",
   "execution_count": 20,
   "metadata": {},
   "outputs": [
    {
     "name": "stderr",
     "output_type": "stream",
     "text": [
      "/opt/conda/lib/python3.8/site-packages/sklearn/model_selection/_split.py:670: UserWarning: The least populated class in y has only 1 members, which is less than n_splits=5.\n",
      "  warnings.warn((\"The least populated class in y has only %d\"\n"
     ]
    },
    {
     "name": "stdout",
     "output_type": "stream",
     "text": [
      "train acc: 0.894\n",
      "test acc: 0.892\n"
     ]
    }
   ],
   "source": [
    "param_grid = {'n_estimators': [100], \n",
    "              'max_features': [1,'auto',None],\n",
    "              'min_samples_leaf': [3,4,5,6],\n",
    "              'n_jobs':[-1],\n",
    "              'max_depth':[12]}\n",
    "\n",
    "\n",
    "rfc = RandomForestClassifier(random_state=0)\n",
    "#グリッドサーチで探索\n",
    "model = GridSearchCV(estimator=rfc, scoring=\"accuracy\", param_grid=param_grid, cv=5)\n",
    "\n",
    "model.fit(X_train,y_train)\n",
    "\n",
    "#正答率を出力\n",
    "print('train acc: %.3f' % model.score(X_train, y_train))\n",
    "print('test acc: %.3f' % model.score(X_test, y_test))\n"
   ]
  },
  {
   "cell_type": "code",
   "execution_count": 21,
   "metadata": {},
   "outputs": [],
   "source": [
    "result = model.predict(X_eval)\n",
    "\n",
    "with open('submit_grid_search.csv', 'w') as f:\n",
    "    for i in range(len(result)):\n",
    "        write_string=str(int(df_test.iloc[i]['id'])) + ',' + str(result[i])\n",
    "        f.write(write_string+'\\n')\n"
   ]
  },
  {
   "cell_type": "code",
   "execution_count": 22,
   "metadata": {
    "scrolled": true
   },
   "outputs": [
    {
     "name": "stdout",
     "output_type": "stream",
     "text": [
      "Requirement already satisfied: xgboost in /opt/conda/lib/python3.8/site-packages (1.2.1)\n",
      "Requirement already satisfied: scipy in /opt/conda/lib/python3.8/site-packages (from xgboost) (1.5.3)\n",
      "Requirement already satisfied: numpy in /opt/conda/lib/python3.8/site-packages (from xgboost) (1.19.4)\n",
      "Fitting 5 folds for each of 1 candidates, totalling 5 fits\n"
     ]
    },
    {
     "name": "stderr",
     "output_type": "stream",
     "text": [
      "[Parallel(n_jobs=1)]: Using backend SequentialBackend with 1 concurrent workers.\n",
      "[Parallel(n_jobs=1)]: Done   5 out of   5 | elapsed:  2.0min finished\n"
     ]
    },
    {
     "name": "stdout",
     "output_type": "stream",
     "text": [
      "train acc: 0.969\n",
      "test acc: 0.970\n"
     ]
    }
   ],
   "source": [
    "!pip install xgboost\n",
    "import xgboost as xgb\n",
    "\n",
    "#model = xgb.XGBRegressor(objective ='reg:squarederror')\n",
    "\n",
    "#XGBR = xgb.XGBRegressor(objective ='reg:squarederror')\n",
    "\n",
    "#params = {'max_depth': [6], 'learning_rate': [0.3]}\n",
    "#model = GridSearchCV(XGBR, params, cv = 5, refit=True,  scoring='r2', verbose = 1, n_jobs=1)\n",
    "\n",
    "XGBR = xgb.XGBRegressor(n_estimators=100, objective='reg:squarederror', gamma=0, min_child_weight=1, subsample=1, colsample_bytree=1)\n",
    "# モデルを作成。xgb.trainにおけるparamの部分\n",
    "\n",
    "params = {'max_depth': [12], 'learning_rate': [0.3]}\n",
    "model = GridSearchCV(XGBR, params, cv = 5, refit=True,  scoring='r2', verbose = 1, n_jobs=1)\n",
    "\n",
    "model.fit(X_train,y_train)\n",
    "\n",
    "#model.fit(X_train,y_train) \n",
    "\n",
    "#正答率を出力\n",
    "print('train acc: %.3f' % model.score(X_train, y_train))\n",
    "print('test acc: %.3f' % model.score(X_test, y_test))\n"
   ]
  },
  {
   "cell_type": "code",
   "execution_count": 23,
   "metadata": {},
   "outputs": [],
   "source": [
    "result = model.predict(X_eval)\n",
    "\n",
    "with open('submit_xgboost.csv', 'w') as f:\n",
    "    for i in range(len(result)):\n",
    "        write_string=str(int(df_test.iloc[i]['id'])) + ',' + str(round(result[i], 0))\n",
    "        f.write(write_string+'\\n')"
   ]
  },
  {
   "cell_type": "code",
   "execution_count": null,
   "metadata": {},
   "outputs": [],
   "source": []
  }
 ],
 "metadata": {
  "kernelspec": {
   "display_name": "Python 3",
   "language": "python",
   "name": "python3"
  },
  "language_info": {
   "codemirror_mode": {
    "name": "ipython",
    "version": 3
   },
   "file_extension": ".py",
   "mimetype": "text/x-python",
   "name": "python",
   "nbconvert_exporter": "python",
   "pygments_lexer": "ipython3",
   "version": "3.8.6"
  }
 },
 "nbformat": 4,
 "nbformat_minor": 4
}
